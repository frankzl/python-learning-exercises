{
 "cells": [
  {
   "cell_type": "markdown",
   "metadata": {},
   "source": [
    "# 01 - Exercise - 2018-11-20"
   ]
  },
  {
   "cell_type": "markdown",
   "metadata": {},
   "source": [
    "### Recap\n",
    "\n",
    "- Naming Convention (camelCase or snake_case)\n",
    "- Variables\n",
    "    - Data types\n",
    "        - numbers: float, int, str, bool\n",
    "- String\n",
    "- Type Conversion\n",
    "  \n",
    "- List\n",
    "    - pop, remove, append, extend\n",
    "- Tuple\n",
    "- Dictionary\n",
    "- Control Logics\n",
    "    - ==, >, >=, <, <=, !=\n",
    "    - if-else\n",
    "    - while\n",
    "    - for"
   ]
  },
  {
   "cell_type": "markdown",
   "metadata": {},
   "source": [
    "## Task\n",
    "\n",
    "Now we want to write a small calculator that can take two numbers and add them.\n",
    "\n",
    "We have 2 numbers: x and y\n",
    "- write a function to add up the x and the y value\n"
   ]
  },
  {
   "cell_type": "code",
   "execution_count": null,
   "metadata": {},
   "outputs": [],
   "source": [
    "x = input(\"x:\")\n",
    "y = input(\"y:\")\n",
    "\n",
    "# TODO\n",
    "# add both numbers"
   ]
  },
  {
   "cell_type": "markdown",
   "metadata": {},
   "source": [
    "### Functions\n",
    "\n",
    "Previously, we have already made use of many built-in functions to facilitate programming. Function is a block of codes with input arguments (and, optionally, return values) for specific purposes. In Python ( and many other languages), a function call is as the following:\n",
    "\n",
    "```\n",
    "    output_variable = function_name(input_argument)\n",
    "    \n",
    "    # example\n",
    "    x = print(\"hallo\")\n",
    "    y = abs(-3)\n",
    "```\n",
    "\n",
    "- Now write a function called add that takes two numbers and returns the sum"
   ]
  },
  {
   "cell_type": "code",
   "execution_count": null,
   "metadata": {},
   "outputs": [],
   "source": [
    "x = input(\"x:\")\n",
    "y = input(\"y:\")\n",
    " \n",
    "# function definition here\n",
    "def add( x, y ):\n",
    "    # something something\n",
    "    return\n",
    "\n",
    "# call the function"
   ]
  },
  {
   "cell_type": "markdown",
   "metadata": {},
   "source": [
    "- Done? Cool! Let's write a function for subtraction and test it. This time I won't help"
   ]
  },
  {
   "cell_type": "code",
   "execution_count": null,
   "metadata": {},
   "outputs": [],
   "source": []
  },
  {
   "cell_type": "markdown",
   "metadata": {},
   "source": [
    "### Condition if else\n",
    "- Alright, let's have a look at if else statements\n",
    "- Now we want to specify an operation: \n",
    "    - When the operation is '-' we want to subtract\n",
    "    - When the operation is '+' we want to add\n",
    " \n",
    " "
   ]
  },
  {
   "cell_type": "code",
   "execution_count": 2,
   "metadata": {},
   "outputs": [
    {
     "name": "stdout",
     "output_type": "stream",
     "text": [
      "op: +\n"
     ]
    }
   ],
   "source": [
    "operation = input('op: ')"
   ]
  },
  {
   "cell_type": "markdown",
   "metadata": {},
   "source": [
    "### Loops: while\n",
    "\n",
    "- woow making progress!\n",
    "- now try to run an infinite loop\n",
    "    1. input number x\n",
    "    2. input number y\n",
    "    3. select operation\n",
    "    4. print result\n",
    "    5. go back to 1."
   ]
  },
  {
   "cell_type": "code",
   "execution_count": null,
   "metadata": {},
   "outputs": [],
   "source": []
  },
  {
   "cell_type": "markdown",
   "metadata": {},
   "source": [
    "### Type Checking\n",
    "- What happens if I input a string instead of a number?\n",
    "- How can I make sure that the user puts a number?"
   ]
  },
  {
   "cell_type": "code",
   "execution_count": null,
   "metadata": {},
   "outputs": [],
   "source": []
  },
  {
   "cell_type": "markdown",
   "metadata": {},
   "source": [
    "## Advanced\n",
    "- If you want a challenge, you can try this task\n",
    "\n",
    "- We now want to input \"5+10\" as an input\n",
    "- Can yo"
   ]
  },
  {
   "cell_type": "code",
   "execution_count": null,
   "metadata": {},
   "outputs": [],
   "source": []
  }
 ],
 "metadata": {
  "kernelspec": {
   "display_name": "Python 3",
   "language": "python",
   "name": "python3"
  },
  "language_info": {
   "codemirror_mode": {
    "name": "ipython",
    "version": 3
   },
   "file_extension": ".py",
   "mimetype": "text/x-python",
   "name": "python",
   "nbconvert_exporter": "python",
   "pygments_lexer": "ipython3",
   "version": "3.5.2"
  }
 },
 "nbformat": 4,
 "nbformat_minor": 2
}
